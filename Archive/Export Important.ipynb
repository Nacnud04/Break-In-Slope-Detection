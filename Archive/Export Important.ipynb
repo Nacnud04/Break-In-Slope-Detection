{
 "cells": [
  {
   "cell_type": "markdown",
   "id": "24007590-aa00-4719-8f60-063fc8c8dd64",
   "metadata": {
    "user_expressions": []
   },
   "source": [
    "# Export wanted rgt's from the main export file"
   ]
  },
  {
   "cell_type": "code",
   "execution_count": 1,
   "id": "4cd4d3fe-7bf4-4601-8679-46620c46b73e",
   "metadata": {
    "tags": []
   },
   "outputs": [
    {
     "name": "stderr",
     "output_type": "stream",
     "text": [
      "/srv/conda/envs/notebook/lib/python3.10/site-packages/geopandas/_compat.py:123: UserWarning: The Shapely GEOS version (3.11.1-CAPI-1.17.1) is incompatible with the GEOS version PyGEOS was compiled with (3.10.4-CAPI-1.16.2). Conversions between both will be slow.\n",
      "  warnings.warn(\n"
     ]
    }
   ],
   "source": [
    "import shapely as sp\n",
    "import pandas as pd\n",
    "import geopandas as gpd\n",
    "import matplotlib.pyplot as plt\n",
    "import numpy as np\n",
    "import ICESat2GroundingLineMigration.IceSatHDF5Unpacker as unpack\n",
    "import src.TrackProfileUtil as util\n",
    "pd.options.mode.chained_assignment = None"
   ]
  },
  {
   "cell_type": "code",
   "execution_count": 2,
   "id": "ff8c787b-7798-40ce-b6b5-6d67416199f9",
   "metadata": {
    "tags": []
   },
   "outputs": [],
   "source": [
    "path = \"RAW-1684174572.345034.json\"\n",
    "output_path = \"Bungen2021-10.json\"\n",
    "data_header = \"Saves/\""
   ]
  },
  {
   "cell_type": "code",
   "execution_count": 3,
   "id": "1d20ed5e-9d21-456e-bfe7-7f5594178f45",
   "metadata": {
    "tags": []
   },
   "outputs": [
    {
     "name": "stdout",
     "output_type": "stream",
     "text": [
      "Reading file: RAW-1684174572.345034.json\r"
     ]
    }
   ],
   "source": [
    "data = []\n",
    "print(f\"Reading file: {path}\", end= \"\\r\")\n",
    "data.append(gpd.read_file(f\"Saves/{path}\"))"
   ]
  },
  {
   "cell_type": "code",
   "execution_count": 4,
   "id": "c7db3dca-4dac-4d68-8295-4f5730e83369",
   "metadata": {
    "tags": []
   },
   "outputs": [],
   "source": [
    "rgt = 1062\n",
    "names = [\"gt1l\", \"gt1r\", \"gt2l\", \"gt2r\", \"gt3l\", \"gt3r\"]"
   ]
  },
  {
   "cell_type": "code",
   "execution_count": 5,
   "id": "6f8026a9-d3d1-40eb-9e6b-d48d2790d629",
   "metadata": {
    "tags": []
   },
   "outputs": [
    {
     "name": "stdout",
     "output_type": "stream",
     "text": [
      "Exporting to Saves/1062/gt3r/Bungen2021-10.json        \r"
     ]
    }
   ],
   "source": [
    "for name in names:\n",
    "    export_header = f\"Saves/{rgt}/{name}/\"\n",
    "    out = util.extract_data(data[0], rgt, name)\n",
    "    print(f\"Exporting to {export_header}{output_path}        \", end = \"\\r\")\n",
    "    out.to_file(f\"{export_header}{output_path}\", driver=\"GeoJSON\")"
   ]
  },
  {
   "cell_type": "code",
   "execution_count": null,
   "id": "4d9f1b6c-7dca-4002-ac54-52fd0328dcf2",
   "metadata": {},
   "outputs": [],
   "source": []
  }
 ],
 "metadata": {
  "kernelspec": {
   "display_name": "Python 3 (ipykernel)",
   "language": "python",
   "name": "python3"
  },
  "language_info": {
   "codemirror_mode": {
    "name": "ipython",
    "version": 3
   },
   "file_extension": ".py",
   "mimetype": "text/x-python",
   "name": "python",
   "nbconvert_exporter": "python",
   "pygments_lexer": "ipython3",
   "version": "3.10.8"
  }
 },
 "nbformat": 4,
 "nbformat_minor": 5
}
