{
 "cells": [
  {
   "cell_type": "code",
   "execution_count": 1,
   "id": "72689eb5-aa0a-4273-9d5d-455f6a9ccc49",
   "metadata": {},
   "outputs": [
    {
     "name": "stderr",
     "output_type": "stream",
     "text": [
      "/srv/conda/envs/notebook/lib/python3.10/site-packages/geopandas/_compat.py:123: UserWarning: The Shapely GEOS version (3.11.0-CAPI-1.17.0) is incompatible with the GEOS version PyGEOS was compiled with (3.10.4-CAPI-1.16.2). Conversions between both will be slow.\n",
      "  warnings.warn(\n"
     ]
    }
   ],
   "source": [
    "import ICESat2GroundingLineMigration.IceSatHDF5Unpacker as unpack\n",
    "import ICESat2GroundingLineMigration.GLineUnpacker as gline\n",
    "import ICESat2GroundingLineMigration.FlowUnpacker as flow\n",
    "import ICESat2GroundingLineMigration.Visualizations as visualize"
   ]
  },
  {
   "cell_type": "code",
   "execution_count": 2,
   "id": "750113ff-0569-43f0-9964-2b4188f75b17",
   "metadata": {},
   "outputs": [],
   "source": [
    "dataset = unpack.Dataset(r\"ATL06\")\n",
    "\n",
    "files = dataset.datafiles"
   ]
  },
  {
   "cell_type": "code",
   "execution_count": 3,
   "id": "9b3cefc5-a9f5-4722-8b96-b946dd88a153",
   "metadata": {},
   "outputs": [
    {
     "name": "stdout",
     "output_type": "stream",
     "text": [
      "1\n",
      "1\n",
      "1\n",
      "1\n",
      "1\n",
      "1\n",
      "1\n",
      "0\n",
      "1\n",
      "1\n"
     ]
    }
   ],
   "source": [
    "for file in files:\n",
    "    granule = dataset.openfilename(file)\n",
    "    print(granule.sc_orient[0])"
   ]
  },
  {
   "cell_type": "code",
   "execution_count": null,
   "id": "48992be0-5d09-41b1-b9bd-db50b9b95a6b",
   "metadata": {},
   "outputs": [],
   "source": []
  }
 ],
 "metadata": {
  "kernelspec": {
   "display_name": "Python 3 (ipykernel)",
   "language": "python",
   "name": "python3"
  },
  "language_info": {
   "codemirror_mode": {
    "name": "ipython",
    "version": 3
   },
   "file_extension": ".py",
   "mimetype": "text/x-python",
   "name": "python",
   "nbconvert_exporter": "python",
   "pygments_lexer": "ipython3",
   "version": "3.10.8"
  }
 },
 "nbformat": 4,
 "nbformat_minor": 5
}
