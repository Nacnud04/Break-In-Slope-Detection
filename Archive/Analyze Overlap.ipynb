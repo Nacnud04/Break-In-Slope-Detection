{
 "cells": [
  {
   "cell_type": "markdown",
   "id": "b7b9c5fd-a650-416e-826f-3d3d9da0a875",
   "metadata": {
    "tags": [],
    "user_expressions": []
   },
   "source": [
    "# Show the RGT's in each export"
   ]
  },
  {
   "cell_type": "code",
   "execution_count": 2,
   "id": "8ae74bf8-662e-4830-b05b-d1bef1ae51f4",
   "metadata": {
    "tags": []
   },
   "outputs": [],
   "source": [
    "import shapely as sp\n",
    "import pandas as pd\n",
    "import geopandas as gpd\n",
    "import matplotlib.pyplot as plt\n",
    "import numpy as np\n",
    "import ICESat2GroundingLineMigration.IceSatHDF5Unpacker as unpack\n",
    "import src.TrackProfileUtil as util\n",
    "pd.options.mode.chained_assignment = None"
   ]
  },
  {
   "cell_type": "code",
   "execution_count": 3,
   "id": "6906e206-36aa-4836-b103-3f2b54ff88b5",
   "metadata": {
    "tags": []
   },
   "outputs": [],
   "source": [
    "data_paths = [\"Bungen2021-01.json\", \"Bungen2021-04.json\", \"Bungen2021-07.json\", \"Bungen2021-10.json\"]\n",
    "data_header = \"Saves/\""
   ]
  },
  {
   "cell_type": "code",
   "execution_count": 5,
   "id": "d0f8fd93-4a0f-4f58-a23c-10b99f9817bc",
   "metadata": {
    "tags": []
   },
   "outputs": [
    {
     "name": "stdout",
     "output_type": "stream",
     "text": [
      "Reading file: Bungen2021-01.json\n",
      "RGT's: [  19.   34.   56.   95.  132.  156.  178.  193.  217.  278.  315.  339.\n",
      "  376.  400.  437.  461.  498.  620.  635.  659.  696.  720.  757.  781.\n",
      "  842.  879.  903.  940. 1016. 1040. 1062. 1077. 1101. 1162. 1223. 1321.\n",
      " 1345.]\n",
      "Reading file: Bungen2021-04.json\n",
      "RGT's: [  19.   34.   56.   95.  132.  156.  178.  193.  254.  315.  339.  376.\n",
      "  437.  461.  476.  537.  559.  574.  598.  620.  635.  659.  681.  696.\n",
      "  720.  757.  781.  818.  842.  879.  903.  940.  979. 1001. 1016. 1040.\n",
      " 1062. 1077. 1101. 1123. 1138. 1162. 1199. 1223. 1260. 1321. 1345. 1382.]\n",
      "Reading file: Bungen2021-07.json\n",
      "RGT's: [  19.   34.   56.   95.  156.  178.  217.  254.  278.  315.  339.  376.\n",
      "  400.  437.  461.  476.  537.  559.  574.  620.  635.  659.  681.  696.\n",
      "  757.  781.  818.  842.  879.  903.  940.  979. 1001. 1062. 1077. 1101.\n",
      " 1123. 1138. 1162. 1260. 1284. 1321. 1345. 1382.]\n",
      "Reading file: Bungen2021-10.json\n",
      "RGT's: [  56.  132.  156.  178.  193.  254.  315.  339.  376.  400.  437.  461.\n",
      "  498.  537.  559.  620.  635.  659.  696.  757.  818.  879.  903.  940.\n",
      "  979. 1001. 1016. 1040. 1062. 1077. 1101. 1123. 1138. 1162. 1199.]\n"
     ]
    }
   ],
   "source": [
    "data = []\n",
    "for path in data_paths:\n",
    "    print(f\"Reading file: {path}\")\n",
    "    data.append(gpd.read_file(f\"Saves/RAW-{path}\"))\n",
    "    print(f\"RGT's: {np.unique(data[-1]['rgt'])}\")"
   ]
  }
 ],
 "metadata": {
  "kernelspec": {
   "display_name": "Python 3 (ipykernel)",
   "language": "python",
   "name": "python3"
  },
  "language_info": {
   "codemirror_mode": {
    "name": "ipython",
    "version": 3
   },
   "file_extension": ".py",
   "mimetype": "text/x-python",
   "name": "python",
   "nbconvert_exporter": "python",
   "pygments_lexer": "ipython3",
   "version": "3.10.8"
  }
 },
 "nbformat": 4,
 "nbformat_minor": 5
}
