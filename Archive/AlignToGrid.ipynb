{
 "cells": [
  {
   "cell_type": "markdown",
   "id": "af57cb0a-9a38-4aa2-9de1-f781509d9597",
   "metadata": {},
   "source": [
    "# Aligns each ICESat-2 ATL06 data to the grid set by flow-data\n",
    "\n",
    "* Output file contaning data is normal filename with a `.csv` extension"
   ]
  },
  {
   "cell_type": "code",
   "execution_count": 1,
   "id": "fe31a1f0-4ea1-4df0-a38c-e08f61860727",
   "metadata": {},
   "outputs": [],
   "source": [
    "import ICESat2GroundingLineMigration.IceSatHDF5Unpacker as unpack\n",
    "import ICESat2GroundingLineMigration.GLineUnpacker as gline\n",
    "import ICESat2GroundingLineMigration.FlowUnpacker as flow\n",
    "import ICESat2GroundingLineMigration.Visualizations as visualize\n",
    "import numpy as np\n",
    "import csv"
   ]
  },
  {
   "cell_type": "markdown",
   "id": "4cbabcb9-b688-438a-b000-6cf8e8059383",
   "metadata": {},
   "source": [
    "Import the altimetry data and flow data"
   ]
  },
  {
   "cell_type": "code",
   "execution_count": 2,
   "id": "1515cdf5-c484-4bf4-9648-c437defd1801",
   "metadata": {},
   "outputs": [],
   "source": [
    "dataset = unpack.Dataset(\"ATL06\") # grab altimetry data\n",
    "\n",
    "filenames = dataset.datafiles # datafiles is a list of all .h5 files in the directory\n",
    "\n",
    "flowdatabase = flow.Database(\"Flow/antarctic_ice_vel_phase_map_v01.nc\") # grab flow dataset"
   ]
  },
  {
   "cell_type": "markdown",
   "id": "166512b5-4e46-4600-9085-cc8d84df1461",
   "metadata": {},
   "source": [
    "### Compute all of the flow data parameters\n",
    "Produces the following: *Angle, Speed, Error, Angle Error*\n",
    "\n",
    "From the following: *Error vector, Latitude, Longitude, x, y*\n",
    "\n",
    "**This requires more than 8GB of RAM**"
   ]
  },
  {
   "cell_type": "code",
   "execution_count": 3,
   "id": "2ccff921-d74c-4074-9616-d8284ee8b58a",
   "metadata": {},
   "outputs": [],
   "source": [
    "flowdatabase.compute_all()"
   ]
  },
  {
   "cell_type": "markdown",
   "id": "e11724c5-ad2b-458f-aa4f-9fc0bfd3116a",
   "metadata": {},
   "source": [
    "### Iterate through the files and sort onto the xy-flow data grid"
   ]
  },
  {
   "cell_type": "code",
   "execution_count": 4,
   "id": "2dab2ce5-74a2-441d-b565-44302348298d",
   "metadata": {},
   "outputs": [
    {
     "name": "stdout",
     "output_type": "stream",
     "text": [
      "Sorting file ATL06_20221012195854_03371710_005_01.h5\n",
      "On laser 1/6\n",
      "On laser 2/6\n",
      "On laser 3/6\n",
      "On laser 4/6\n",
      "On laser 5/6\n",
      "On laser 6/6\n",
      "Writing File\n",
      "Sorting file ATL06_20221012214635_03381712_005_01.h5\n",
      "On laser 6/6\n",
      "On laser 5/6\n",
      "On laser 4/6\n",
      "On laser 3/6\n",
      "On laser 2/6\n",
      "On laser 1/6\n",
      "Writing File\n",
      "Sorting file ATL06_20200202050614_05720611_005_01.h5\n",
      "On laser 6/6\n",
      "On laser 5/6\n",
      "On laser 4/6\n",
      "On laser 3/6\n",
      "On laser 2/6\n",
      "On laser 1/6\n",
      "Writing File\n",
      "Sorting file ATL06_20200201053154_05570611_005_01.h5\n",
      "On laser 6/6\n",
      "On laser 5/6\n",
      "On laser 4/6\n",
      "On laser 3/6\n",
      "On laser 2/6\n",
      "On laser 1/6\n",
      "Writing File\n",
      "Sorting file ATL06_20200203184911_05960611_005_01.h5\n",
      "On laser 6/6\n",
      "On laser 5/6\n",
      "On laser 4/6\n",
      "On laser 3/6\n",
      "On laser 2/6\n",
      "On laser 1/6\n",
      "Writing File\n",
      "Sorting file ATL06_20200202045834_05720610_005_01.h5\n",
      "On laser 1/6\n",
      "On laser 2/6\n",
      "On laser 3/6\n",
      "On laser 4/6\n",
      "On laser 5/6\n",
      "On laser 6/6\n",
      "Writing File\n",
      "Sorting file ATL06_20200203185454_05960612_005_01.h5\n",
      "On laser 6/6\n",
      "On laser 5/6\n",
      "On laser 4/6\n",
      "On laser 3/6\n",
      "On laser 2/6\n",
      "On laser 1/6\n",
      "Writing File\n",
      "Sorting file ATL06_20200202174033_05800611_005_01.h5\n",
      "On laser 6/6\n",
      "On laser 5/6\n",
      "On laser 4/6\n",
      "On laser 3/6\n",
      "On laser 2/6\n",
      "On laser 1/6\n",
      "Writing File\n",
      "Sorting file ATL06_20200202174616_05800612_005_01.h5\n",
      "On laser 6/6\n",
      "On laser 5/6\n",
      "On laser 4/6\n",
      "On laser 3/6\n",
      "On laser 2/6\n",
      "On laser 1/6\n",
      "Writing File\n"
     ]
    }
   ],
   "source": [
    "\n",
    "for file in filenames:\n",
    "    print(f\"Sorting file {file}\")\n",
    "    granule = dataset.openfilename(file)\n",
    "    \n",
    "    laserdata = []\n",
    "    for laser in granule.lasers:\n",
    "        print(f\"On laser {laser.beamnum}/6\")\n",
    "        \n",
    "        lat, lon, time, dh_fit_dx, dh_fit_dx_sigma, metadata, granuledata = laser.getTrackData()\n",
    "        xyindices, trackx, tracky = unpack.Basemap.latlonindex_to_grid(lat, lon, flowdatabase)\n",
    "        \n",
    "        laserdata.append([xyindices, trackx, tracky])\n",
    "        \n",
    "    maxlength = 0\n",
    "    for data in laserdata:\n",
    "        if len(data[0]) > maxlength:\n",
    "            maxlength = len(data[0])\n",
    "            \n",
    "    for data in laserdata:\n",
    "        if len(data[0]) < maxlength:\n",
    "            difference = maxlength - len(data[0])\n",
    "            data[0], data[1], data[2] = np.append(data[0], [None]*difference), np.append(data[1], [None]*difference), np.append(data[2], [None]*difference)\n",
    "        \n",
    "    print(\"Writing File\")\n",
    "    with open(f'ATL06/{file.split(\".\")[0]}.csv', 'w+') as outfile:\n",
    "        filewrite = csv.writer(outfile, delimiter=',')\n",
    "        filewrite.writerow([\"index\", \"l1-index\", \"l1-x\", \"l1-y\", \"r1-index\", \"r1-x\", \"r1-y\", \"l2-index\", \"l2-x\", \"l2-y\", \n",
    "                            \"r2-index\", \"r2-x\", \"r2-y\", \"l3-index\", \"l3-x\", \"l3-y\", \"r3-index\", \"r3-x\", \"r3-y\"])\n",
    "        for i in range(maxlength):\n",
    "            filewrite.writerow([i, laserdata[0][0][i], laserdata[0][1][i], laserdata[0][2][i], \n",
    "                                laserdata[1][0][i], laserdata[1][1][i], laserdata[1][2][i], \n",
    "                                laserdata[2][0][i], laserdata[2][1][i], laserdata[2][2][i],\n",
    "                                laserdata[3][0][i], laserdata[3][1][i], laserdata[3][2][i], \n",
    "                                laserdata[4][0][i], laserdata[4][1][i], laserdata[4][2][i], \n",
    "                                laserdata[5][0][i], laserdata[5][1][i], laserdata[5][2][i]])"
   ]
  },
  {
   "cell_type": "code",
   "execution_count": null,
   "id": "91be965c-eb5d-4d0f-a747-0900a3e5cb7d",
   "metadata": {},
   "outputs": [],
   "source": []
  }
 ],
 "metadata": {
  "kernelspec": {
   "display_name": "Python 3 (ipykernel)",
   "language": "python",
   "name": "python3"
  },
  "language_info": {
   "codemirror_mode": {
    "name": "ipython",
    "version": 3
   },
   "file_extension": ".py",
   "mimetype": "text/x-python",
   "name": "python",
   "nbconvert_exporter": "python",
   "pygments_lexer": "ipython3",
   "version": "3.10.8"
  }
 },
 "nbformat": 4,
 "nbformat_minor": 5
}
