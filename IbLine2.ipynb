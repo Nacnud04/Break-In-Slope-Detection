{
 "cells": [
  {
   "cell_type": "markdown",
   "id": "9157fc1e-6cdb-4f16-89ee-cd8cc4f9318f",
   "metadata": {
    "user_expressions": []
   },
   "source": [
    "# Find line for break in slope\n",
    "\n",
    "## First find which RGT's were captured for which cycles\n",
    "\n",
    "All of this information is dumped into a large dictionary"
   ]
  },
  {
   "cell_type": "code",
   "execution_count": 1,
   "id": "221100f0-b314-41ed-8d26-6b00b80d44ca",
   "metadata": {
    "tags": []
   },
   "outputs": [
    {
     "name": "stderr",
     "output_type": "stream",
     "text": [
      "/tmp/ipykernel_2231/2381530074.py:5: UserWarning: Shapely 2.0 is installed, but because PyGEOS is also installed, GeoPandas will still use PyGEOS by default for now. To force to use and test Shapely 2.0, you have to set the environment variable USE_PYGEOS=0. You can do this before starting the Python process, or in your code before importing geopandas:\n",
      "\n",
      "import os\n",
      "os.environ['USE_PYGEOS'] = '0'\n",
      "import geopandas\n",
      "\n",
      "In a future release, GeoPandas will switch to using Shapely by default. If you are using PyGEOS directly (calling PyGEOS functions on geometries from GeoPandas), this will then stop working and you are encouraged to migrate from PyGEOS to Shapely 2.0 (https://shapely.readthedocs.io/en/latest/migration_pygeos.html).\n",
      "  import geopandas as gpd\n"
     ]
    }
   ],
   "source": [
    "import os\n",
    "import shapely as sp\n",
    "import shapely.plotting as spplot\n",
    "import pandas as pd\n",
    "import geopandas as gpd\n",
    "import matplotlib.pyplot as plt\n",
    "import numpy as np\n",
    "import math\n",
    "from time import time as Time\n",
    "import ICESat2GroundingLineMigration.IceSatHDF5Unpacker as unpack\n",
    "import src.TrackProfileUtil as util\n",
    "import src.SlopeBreak2 as slpbr\n",
    "pd.options.mode.chained_assignment = None"
   ]
  },
  {
   "cell_type": "code",
   "execution_count": 2,
   "id": "c85b4397-b11e-4e63-b8e8-bf41ed8329d1",
   "metadata": {
    "tags": []
   },
   "outputs": [],
   "source": [
    "allpaths = os.listdir(\"Saves\")\n",
    "rgts = sorted([int(path) for path in allpaths if \".\" not in list(path)])"
   ]
  },
  {
   "cell_type": "code",
   "execution_count": 3,
   "id": "6cea764d-ab79-4a52-93c3-42641dee3200",
   "metadata": {
    "tags": []
   },
   "outputs": [],
   "source": [
    "names = [\"gt1l\", \"gt1r\", \"gt2l\", \"gt2r\", \"gt3l\", \"gt3r\"]\n",
    "cycles = list(range(1, 19))\n",
    "directory = {rgt:{name:[] for name in names} for rgt in rgts}"
   ]
  },
  {
   "cell_type": "code",
   "execution_count": 4,
   "id": "e352ddaa-5d20-4e16-9665-0da0aaca35fa",
   "metadata": {
    "tags": []
   },
   "outputs": [
    {
     "name": "stdout",
     "output_type": "stream",
     "text": [
      "Checking paths for rgt: 1382-gt3r-18    \r"
     ]
    }
   ],
   "source": [
    "for i, rgt in enumerate(rgts):\n",
    "    for name in names:\n",
    "        for cycle in cycles:\n",
    "            filepath = f\"Saves/{rgt}/{name}/Bung-{cycle}.json\"\n",
    "            print(f\"Checking paths for rgt: {rgt}-{name}-{cycle}\", end=\"    \\r\")\n",
    "            if os.path.isfile(filepath) == True:\n",
    "                directory[rgt][name].append(cycle)"
   ]
  },
  {
   "cell_type": "markdown",
   "id": "500bd76f-7d22-41b0-a7e9-ace0a96c9da4",
   "metadata": {
    "tags": [],
    "user_expressions": []
   },
   "source": [
    "#\n",
    "# Find Ib for each track in a given cycle\n",
    "\n",
    "## First find which tracks are in that cycle"
   ]
  },
  {
   "cell_type": "code",
   "execution_count": 5,
   "id": "4b98aae9-b882-4e77-a098-6e88cb2cc948",
   "metadata": {
    "tags": []
   },
   "outputs": [],
   "source": [
    "cycle = 12\n",
    "fullset = []"
   ]
  },
  {
   "cell_type": "code",
   "execution_count": 6,
   "id": "ad037124-2b16-4cd0-bdd9-3912ee6a3fd0",
   "metadata": {
    "tags": []
   },
   "outputs": [],
   "source": [
    "for rgt in rgts:\n",
    "    for name in names:\n",
    "        if cycle in directory[rgt][name]:\n",
    "            fullset.append(f\"{rgt}-{name}\")"
   ]
  },
  {
   "cell_type": "markdown",
   "id": "0188c72b-aa6d-4a96-a364-43fb285c100b",
   "metadata": {
    "user_expressions": []
   },
   "source": [
    "## Prep other necessary items"
   ]
  },
  {
   "cell_type": "code",
   "execution_count": 7,
   "id": "aec6f1f9-95f3-409b-92a3-07a26ca1d370",
   "metadata": {
    "tags": []
   },
   "outputs": [],
   "source": [
    "study_area, lim = slpbr.studyArea(\"Bounds/bungen.gpkg\")\n",
    "xlim, ylim = lim"
   ]
  },
  {
   "cell_type": "code",
   "execution_count": 8,
   "id": "75edcd8f-f59d-49c9-ba6f-219c40af1814",
   "metadata": {},
   "outputs": [],
   "source": [
    "basemap = unpack.Basemap(\"BackgroundData/GroundedIce.gpkg\")\n",
    "gline_xy = util.gline_to_df(basemap.basemap_gpd, study_area)"
   ]
  },
  {
   "cell_type": "markdown",
   "id": "78d3063f-53af-4dbc-a2cc-b9b4161c1816",
   "metadata": {
    "tags": [],
    "user_expressions": []
   },
   "source": [
    "## Open up and compute for each track"
   ]
  },
  {
   "cell_type": "code",
   "execution_count": 9,
   "id": "3e7451f2-f0c4-4801-adab-81eae3d5a918",
   "metadata": {},
   "outputs": [],
   "source": [
    "ibs = pd.DataFrame(columns=[\"x\",\"y\",\"time\",\"cyc\", \"track\", \"qs\", \"px1\", \"py1\", \"px2\", \"py2\"])"
   ]
  },
  {
   "cell_type": "code",
   "execution_count": 10,
   "id": "03bcff9b-a629-4840-85e5-9d3b20014c5a",
   "metadata": {},
   "outputs": [],
   "source": [
    "def find_near(array, value):\n",
    "    array = np.asarray(array)\n",
    "    idx = (np.abs(array - value)).argmin()\n",
    "    return int(idx)"
   ]
  },
  {
   "cell_type": "code",
   "execution_count": 11,
   "id": "9b317419-54da-4173-930a-c71565948f42",
   "metadata": {
    "tags": []
   },
   "outputs": [],
   "source": [
    "def addon(track, ib, qs, plane, ibs):\n",
    "    d_min = track[\"along_dist\"].min() + 0.5\n",
    "    d_max = track[\"along_dist\"].max() - 0.5\n",
    "    nearest_id = find_near(track[\"along_dist\"], ib)\n",
    "    xy = (track.iloc[nearest_id][\"x\"], track.iloc[nearest_id][\"y\"])\n",
    "    time = track.iloc[nearest_id][\"date_time\"]\n",
    "    if plane:\n",
    "        nearest_id = find_near(track[\"along_dist\"], plane[0])\n",
    "        pxy1 = (track.iloc[nearest_id][\"x\"], track.iloc[nearest_id][\"y\"])\n",
    "        nearest_id = find_near(track[\"along_dist\"], plane[1])\n",
    "        pxy2 = (track.iloc[nearest_id][\"x\"], track.iloc[nearest_id][\"y\"])\n",
    "    else:\n",
    "        pxy1, pxy2 = (None, None), (None, None)\n",
    "    ibs.loc[-1] = {\"x\":xy[0], \"y\":xy[1], \"time\":time, \"cyc\":cycle, \"track\":item, \"qs\":qs, \"px1\":pxy1[0], \"py1\":pxy1[1], \"px2\":pxy2[0], \"py2\":pxy2[1]}  # adding a row\n",
    "    ibs.index = ibs.index + 1  # shifting index\n",
    "    ibs = ibs.sort_index()  # sorting by index\n",
    "    return ibs"
   ]
  },
  {
   "cell_type": "code",
   "execution_count": null,
   "id": "3bfd1f7d-4567-4f26-ae8d-6258237ea2be",
   "metadata": {
    "tags": []
   },
   "outputs": [
    {
     "name": "stdout",
     "output_type": "stream",
     "text": [
      "209/428 (48.83%) | Find Ib 681-gt2r-12 | TotTime: 11.58min EstTime: 12.13min        \r"
     ]
    }
   ],
   "source": [
    "tot = len(fullset)\n",
    "starttime = Time()\n",
    "for i, item in enumerate(fullset):\n",
    "    rgt, name = item.split(\"-\")\n",
    "    path = f\"Saves/{rgt}/{name}/Bung-{cycle}.json\"\n",
    "    print(f\"{i}/{tot} ({round(i/tot*100, 2)}%) | Opening {rgt}-{name}-{cycle} | TotTime: {round((Time()-starttime)/60, 2)}min EstTime: {round(((Time()-starttime)/60) * (tot/(i+0.0001)) - (Time()-starttime)/60, 2)}min\", end=\"        \\r\")\n",
    "    track = gpd.read_file(path)\n",
    "    print(f\"{i}/{tot} ({round(i/tot*100, 2)}%) | Find Ib {rgt}-{name}-{cycle} | TotTime: {round((Time()-starttime)/60, 2)}min EstTime: {round(((Time()-starttime)/60) * (tot/(i+0.0001)) - (Time()-starttime)/60, 2)}min\", end=\"        \\r\")\n",
    "    out = slpbr.findIb(track, gline_xy)\n",
    "    boolib = False\n",
    "    try:\n",
    "        track, ib, qs, plane = out\n",
    "        if type(ib) != list:\n",
    "            ibs = addon(track, ib, qs, plane, ibs)\n",
    "        else:\n",
    "            for i, q in zip(ib, qs):\n",
    "                ibs = addon(track, i, q, plane, ibs)\n",
    "        boolib = True\n",
    "    except: \n",
    "        track = out"
   ]
  },
  {
   "cell_type": "code",
   "execution_count": null,
   "id": "9b6ba29f-5ad6-4f16-9770-6ebeb217198b",
   "metadata": {
    "tags": []
   },
   "outputs": [],
   "source": [
    "proj4_crs = \"+proj=stere +lat_0=-90 +lat_ts=-71 +lon_0=0 +k=1 +x_0=0 +y_0=0 +datum=WGS84 +units=m +no_defs\"\n",
    "ibgpd = gpd.GeoDataFrame(ibs, geometry=gpd.points_from_xy(ibs[\"x\"], ibs[\"y\"]), crs=proj4_crs)"
   ]
  },
  {
   "cell_type": "markdown",
   "id": "3ef830ed-d463-4633-83ec-f42ee694122c",
   "metadata": {
    "user_expressions": []
   },
   "source": [
    "## Remove points far from others by calculating min dist to others"
   ]
  },
  {
   "cell_type": "code",
   "execution_count": null,
   "id": "b1b1d562-fa6d-4f15-a0f3-07a98c3b9644",
   "metadata": {
    "tags": []
   },
   "outputs": [],
   "source": [
    "min_dists = []\n",
    "for i, row in ibgpd.iterrows():\n",
    "    rowdists = []\n",
    "    x, y = row[\"x\"], row[\"y\"]\n",
    "    for j, nrow in ibgpd.iterrows():\n",
    "        if j != i:\n",
    "            nx, ny = nrow[\"x\"], nrow[\"y\"]\n",
    "            rowdists.append(((nx-x)**2+(ny-y)**2)**0.5)\n",
    "    min_dists.append(min(rowdists))\n",
    "ibgpd[\"min_dist\"] = min_dists"
   ]
  },
  {
   "cell_type": "code",
   "execution_count": null,
   "id": "b9bae6a3-22b2-4127-b845-a864615cc473",
   "metadata": {
    "tags": []
   },
   "outputs": [],
   "source": [
    "ibgpd = ibgpd[ibgpd[\"min_dist\"] < 10*1000]"
   ]
  },
  {
   "cell_type": "markdown",
   "id": "f0301d35-195a-4190-aa22-d9fca1c91fce",
   "metadata": {
    "user_expressions": []
   },
   "source": [
    "## Calculate ice plain cheaply"
   ]
  },
  {
   "cell_type": "code",
   "execution_count": null,
   "id": "22c13ebd-4408-4cab-aaaa-c9016d8a0a14",
   "metadata": {
    "tags": []
   },
   "outputs": [],
   "source": [
    "fig, ax = plt.subplots(1, 1, figsize = (10, 10))\n",
    "range_cnt = 20\n",
    "\n",
    "ax.set_facecolor(\"gainsboro\")\n",
    "basemap.basemap_gpd.plot(ax=ax, color=\"white\", edgecolor=\"black\")\n",
    "\n",
    "moa_gline = gpd.read_file(\"Line/moa_2009_groundingline_v02.0.shp\")\n",
    "\n",
    "for i, row in ibgpd.iterrows():\n",
    "    if row[\"px1\"]:\n",
    "        \n",
    "        # first check if point is within polygon.\n",
    "        point = row.geometry\n",
    "        if basemap.basemap_gpd.iloc[0].geometry.contains(point) == True:\n",
    "            \n",
    "            # create line which goes in rough track direction\n",
    "            m = (row[\"py2\"] - row[\"py1\"]) / (row[\"px2\"] - row[\"px1\"])\n",
    "            xysort = [row[\"px1\"], row[\"px2\"]], [row[\"py1\"], row[\"py2\"]]\n",
    "            x0, x1 = xysort[0][0]-50000, xysort[0][1]+50000\n",
    "            y0, y1 = m*(x0-xysort[0][0])+xysort[1][0], m*(x1-xysort[0][1])+xysort[1][1]\n",
    "            \n",
    "            line = sp.geometry.LineString([[x0, y0], [x1, y1]])\n",
    "            intersect = sp.intersection(basemap.basemap_gpd.iloc[0].geometry.boundary, line)\n",
    "            \n",
    "            # check to ensure intersection is not endpoint of a line\n",
    "            xs, ys = [], []\n",
    "            if type(intersect) == sp.geometry.MultiPoint:\n",
    "                min_dist, geom = 1e10, None\n",
    "                for line in intersect.geoms:\n",
    "                    new = line.xy\n",
    "                    nxs, nys = list(new[0])[0], list(new[1])[0]\n",
    "                    dist = ((row[\"x\"] - nxs)**2 + (row[\"y\"] - nys)**2)**0.5\n",
    "                    if dist < min_dist:\n",
    "                        min_dist = dist\n",
    "                        geom = new\n",
    "            else:\n",
    "                geom = intersect.xy\n",
    "                \n",
    "            nxs, nys = list(geom[0]), list(geom[1])\n",
    "            xs.extend(nxs)\n",
    "            ys.extend(nys)\n",
    "            \n",
    "            # make into xy pairs and remove if equal to line endpoint\n",
    "            pairs = [(x, y) for x, y in zip(xs, ys) if (x, y) != (x0, y0) or (x, y) != (x1, y1)]\n",
    "                \n",
    "            if xs:\n",
    "                plt.plot([row[\"x\"],pairs[0][0]], [row[\"y\"],pairs[0][1]], c=\"navy\")\n",
    "                plt.text(row[\"x\"], row[\"y\"], row[\"track\"])\n",
    "                \n",
    "moa_gline.plot(ax=ax, color=\"none\", edgecolor=\"red\", alpha= 0.2)\n",
    "            \n",
    "ax.set_title(\"All\")\n",
    "ax.set_aspect('equal', adjustable='box')\n",
    "\n",
    "plt.xlim(gline_xy[\"x\"].min(), gline_xy[\"x\"].max())\n",
    "plt.ylim(gline_xy[\"y\"].min(), gline_xy[\"y\"].max())\n",
    "    \n",
    "plt.show()"
   ]
  },
  {
   "cell_type": "markdown",
   "id": "d800a236-cd62-4cc5-bab0-c4bce83e00e3",
   "metadata": {
    "user_expressions": []
   },
   "source": [
    "## Visualize"
   ]
  },
  {
   "cell_type": "code",
   "execution_count": null,
   "id": "e974ab34-5cf8-483d-822f-74c8e85ca29e",
   "metadata": {
    "tags": []
   },
   "outputs": [],
   "source": [
    "fig, ax = plt.subplots(1, 1, figsize = (10, 10))\n",
    "range_cnt = 20\n",
    "\n",
    "ax.set_facecolor(\"gainsboro\")\n",
    "basemap.basemap_gpd.plot(ax=ax, color=\"white\", edgecolor=\"black\")\n",
    "    \n",
    "for i, row in ibgpd.iterrows():\n",
    "    row = ibs.iloc[i]\n",
    "    plt.scatter(row[\"x\"], row[\"y\"], s = 3, color=\"red\")\n",
    "    plt.text(row[\"x\"], row[\"y\"], row[\"track\"])\n",
    "    \n",
    "ax.set_title(\"All\")\n",
    "ax.set_aspect('equal', adjustable='box')\n",
    "\n",
    "plt.xlim(gline_xy[\"x\"].min(), gline_xy[\"x\"].max())\n",
    "plt.ylim(gline_xy[\"y\"].min(), gline_xy[\"y\"].max())\n",
    "    \n",
    "plt.show()"
   ]
  },
  {
   "cell_type": "code",
   "execution_count": null,
   "id": "4ae34626-08db-4e97-aa3a-5fd66ddf077d",
   "metadata": {},
   "outputs": [],
   "source": [
    "fig, ax = plt.subplots(1, 1, figsize = (10, 10))\n",
    "range_cnt = 20\n",
    " \n",
    "ax.set_facecolor(\"gainsboro\")\n",
    "basemap.basemap_gpd.plot(ax=ax, color=\"white\", edgecolor=\"black\")\n",
    "    \n",
    "for i in range(len(ibs)):\n",
    "    row = ibs.iloc[i]\n",
    "    plt.scatter(row[\"x\"], row[\"y\"], s = 3, color=\"red\")\n",
    "    if row[\"x\"] < -900000 and row[\"y\"] < 350000:\n",
    "        plt.text(row[\"x\"], row[\"y\"], row[\"track\"])\n",
    "    \n",
    "ax.set_title(\"All\")\n",
    "ax.set_aspect('equal', adjustable='box')\n",
    "\n",
    "plt.xlim(gline_xy[\"x\"].min(), -900000)\n",
    "plt.ylim(300000, 350000)\n",
    "    \n",
    "plt.show()"
   ]
  },
  {
   "cell_type": "code",
   "execution_count": null,
   "id": "6326700d-7a08-446b-84f0-f8e63baf300e",
   "metadata": {
    "tags": []
   },
   "outputs": [],
   "source": [
    "ibgpd.to_csv(f\"Line/{cycle}-Ib.csv\")"
   ]
  },
  {
   "cell_type": "code",
   "execution_count": null,
   "id": "29896eb2-7dcf-4a34-8305-4dc1caa693b5",
   "metadata": {},
   "outputs": [],
   "source": [
    "fig, ax = plt.subplots(1, 1, figsize = (10, 10))\n",
    "range_cnt = 20\n",
    "\n",
    "ax.set_facecolor(\"gainsboro\")\n",
    "basemap.basemap_gpd.plot(ax=ax, color=\"white\", edgecolor=\"black\")\n",
    "    \n",
    "sc = plt.scatter(ibs[\"x\"], ibs[\"y\"], s = 3, c=ibs[\"qs\"])\n",
    "#sc = plt.scatter(ibs[\"x\"], ibs[\"y\"], s = 3, c=min_dists)\n",
    "    \n",
    "ax.set_title(\"All\")\n",
    "ax.set_aspect('equal', adjustable='box')\n",
    "\n",
    "plt.xlim(gline_xy[\"x\"].min(), gline_xy[\"x\"].max())\n",
    "plt.ylim(gline_xy[\"y\"].min(), gline_xy[\"y\"].max())\n",
    "plt.colorbar(sc)\n",
    "    \n",
    "plt.show()"
   ]
  },
  {
   "cell_type": "code",
   "execution_count": null,
   "id": "23299557-ee8c-4f5f-9c92-16e3f583a9fa",
   "metadata": {},
   "outputs": [],
   "source": [
    "fig, ax = plt.subplots(1, 1, figsize = (10, 10))\n",
    "range_cnt = 20\n",
    "\n",
    "ax.set_facecolor(\"gainsboro\")\n",
    "basemap.basemap_gpd.plot(ax=ax, color=\"white\", edgecolor=\"black\")\n",
    "    \n",
    "for i, row in ibgpd.iterrows():\n",
    "    if row[\"px1\"]:\n",
    "        plt.plot([row[\"px1\"], row[\"px2\"]], [row[ \"py1\"], row[\"py2\"]], c=\"red\")\n",
    "        plt.text(row[\"x\"], row[\"y\"], row[\"track\"])\n",
    "    \n",
    "ax.set_title(\"All\")\n",
    "ax.set_aspect('equal', adjustable='box')\n",
    "\n",
    "plt.xlim(gline_xy[\"x\"].min(), gline_xy[\"x\"].max())\n",
    "plt.ylim(gline_xy[\"y\"].min(), gline_xy[\"y\"].max())\n",
    "    \n",
    "plt.show()"
   ]
  },
  {
   "cell_type": "code",
   "execution_count": null,
   "id": "423b1676-2fdf-48ab-a5f6-4b490447bd18",
   "metadata": {},
   "outputs": [],
   "source": []
  }
 ],
 "metadata": {
  "kernelspec": {
   "display_name": "Python 3 (ipykernel)",
   "language": "python",
   "name": "python3"
  },
  "language_info": {
   "codemirror_mode": {
    "name": "ipython",
    "version": 3
   },
   "file_extension": ".py",
   "mimetype": "text/x-python",
   "name": "python",
   "nbconvert_exporter": "python",
   "pygments_lexer": "ipython3",
   "version": "3.10.12"
  }
 },
 "nbformat": 4,
 "nbformat_minor": 5
}
