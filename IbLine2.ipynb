{
 "cells": [
  {
   "cell_type": "markdown",
   "id": "9157fc1e-6cdb-4f16-89ee-cd8cc4f9318f",
   "metadata": {
    "user_expressions": []
   },
   "source": [
    "# Find line for break in slope\n",
    "\n",
    "## First find which RGT's were captured for which cycles\n",
    "\n",
    "All of this information is dumped into a large dictionary"
   ]
  },
  {
   "cell_type": "code",
   "execution_count": 1,
   "id": "221100f0-b314-41ed-8d26-6b00b80d44ca",
   "metadata": {
    "tags": []
   },
   "outputs": [
    {
     "name": "stderr",
     "output_type": "stream",
     "text": [
      "/tmp/ipykernel_462/2381530074.py:5: UserWarning: Shapely 2.0 is installed, but because PyGEOS is also installed, GeoPandas will still use PyGEOS by default for now. To force to use and test Shapely 2.0, you have to set the environment variable USE_PYGEOS=0. You can do this before starting the Python process, or in your code before importing geopandas:\n",
      "\n",
      "import os\n",
      "os.environ['USE_PYGEOS'] = '0'\n",
      "import geopandas\n",
      "\n",
      "In a future release, GeoPandas will switch to using Shapely by default. If you are using PyGEOS directly (calling PyGEOS functions on geometries from GeoPandas), this will then stop working and you are encouraged to migrate from PyGEOS to Shapely 2.0 (https://shapely.readthedocs.io/en/latest/migration_pygeos.html).\n",
      "  import geopandas as gpd\n"
     ]
    }
   ],
   "source": [
    "import os\n",
    "import shapely as sp\n",
    "import shapely.plotting as spplot\n",
    "import pandas as pd\n",
    "import geopandas as gpd\n",
    "import matplotlib.pyplot as plt\n",
    "import numpy as np\n",
    "import math\n",
    "from time import time as Time\n",
    "import ICESat2GroundingLineMigration.IceSatHDF5Unpacker as unpack\n",
    "import src.TrackProfileUtil as util\n",
    "import src.SlopeBreak2 as slpbr\n",
    "pd.options.mode.chained_assignment = None"
   ]
  },
  {
   "cell_type": "code",
   "execution_count": 2,
   "id": "c85b4397-b11e-4e63-b8e8-bf41ed8329d1",
   "metadata": {
    "tags": []
   },
   "outputs": [],
   "source": [
    "allpaths = os.listdir(\"Saves\")\n",
    "rgts = sorted([int(path) for path in allpaths if \".\" not in list(path)])"
   ]
  },
  {
   "cell_type": "code",
   "execution_count": 3,
   "id": "6cea764d-ab79-4a52-93c3-42641dee3200",
   "metadata": {
    "tags": []
   },
   "outputs": [],
   "source": [
    "names = [\"gt1l\", \"gt1r\", \"gt2l\", \"gt2r\", \"gt3l\", \"gt3r\"]\n",
    "cycles = list(range(1, 19))\n",
    "directory = {rgt:{name:[] for name in names} for rgt in rgts}"
   ]
  },
  {
   "cell_type": "code",
   "execution_count": 4,
   "id": "e352ddaa-5d20-4e16-9665-0da0aaca35fa",
   "metadata": {
    "tags": []
   },
   "outputs": [
    {
     "name": "stdout",
     "output_type": "stream",
     "text": [
      "Checking paths for rgt: 1382-gt3r-18    \r"
     ]
    }
   ],
   "source": [
    "for i, rgt in enumerate(rgts):\n",
    "    for name in names:\n",
    "        for cycle in cycles:\n",
    "            filepath = f\"Saves/{rgt}/{name}/Bung-{cycle}.json\"\n",
    "            print(f\"Checking paths for rgt: {rgt}-{name}-{cycle}\", end=\"    \\r\")\n",
    "            if os.path.isfile(filepath) == True:\n",
    "                directory[rgt][name].append(cycle)"
   ]
  },
  {
   "cell_type": "markdown",
   "id": "500bd76f-7d22-41b0-a7e9-ace0a96c9da4",
   "metadata": {
    "tags": [],
    "user_expressions": []
   },
   "source": [
    "#\n",
    "# Find Ib for each track in a given cycle\n",
    "\n",
    "## First find which tracks are in that cycle"
   ]
  },
  {
   "cell_type": "code",
   "execution_count": 5,
   "id": "4b98aae9-b882-4e77-a098-6e88cb2cc948",
   "metadata": {
    "tags": []
   },
   "outputs": [],
   "source": [
    "cycle = 9\n",
    "fullset = []"
   ]
  },
  {
   "cell_type": "code",
   "execution_count": 6,
   "id": "ad037124-2b16-4cd0-bdd9-3912ee6a3fd0",
   "metadata": {
    "tags": []
   },
   "outputs": [],
   "source": [
    "for rgt in rgts:\n",
    "    for name in names:\n",
    "        if cycle in directory[rgt][name]:\n",
    "            fullset.append(f\"{rgt}-{name}\")"
   ]
  },
  {
   "cell_type": "markdown",
   "id": "0188c72b-aa6d-4a96-a364-43fb285c100b",
   "metadata": {
    "user_expressions": []
   },
   "source": [
    "## Prep other necessary items"
   ]
  },
  {
   "cell_type": "code",
   "execution_count": 7,
   "id": "aec6f1f9-95f3-409b-92a3-07a26ca1d370",
   "metadata": {
    "tags": []
   },
   "outputs": [],
   "source": [
    "study_area, lim = slpbr.studyArea(\"Bounds/bungen.gpkg\")\n",
    "xlim, ylim = lim"
   ]
  },
  {
   "cell_type": "code",
   "execution_count": 8,
   "id": "75edcd8f-f59d-49c9-ba6f-219c40af1814",
   "metadata": {},
   "outputs": [],
   "source": [
    "basemap = unpack.Basemap(\"BackgroundData/GroundedIce.gpkg\")\n",
    "gline_xy = util.gline_to_df(basemap.basemap_gpd, study_area)"
   ]
  },
  {
   "cell_type": "markdown",
   "id": "78d3063f-53af-4dbc-a2cc-b9b4161c1816",
   "metadata": {
    "tags": [],
    "user_expressions": []
   },
   "source": [
    "## Open up and compute for each track"
   ]
  },
  {
   "cell_type": "code",
   "execution_count": 9,
   "id": "3e7451f2-f0c4-4801-adab-81eae3d5a918",
   "metadata": {},
   "outputs": [],
   "source": [
    "ibs = pd.DataFrame(columns=[\"x\",\"y\",\"time\",\"cyc\", \"track\", \"qs\", \"px1\", \"py1\", \"px2\", \"py2\"])"
   ]
  },
  {
   "cell_type": "code",
   "execution_count": 10,
   "id": "03bcff9b-a629-4840-85e5-9d3b20014c5a",
   "metadata": {},
   "outputs": [],
   "source": [
    "def find_near(array, value):\n",
    "    array = np.asarray(array)\n",
    "    idx = (np.abs(array - value)).argmin()\n",
    "    return int(idx)"
   ]
  },
  {
   "cell_type": "code",
   "execution_count": 11,
   "id": "9b317419-54da-4173-930a-c71565948f42",
   "metadata": {
    "tags": []
   },
   "outputs": [],
   "source": [
    "def addon(track, ib, qs, plane, ibs):\n",
    "    d_min = track[\"along_dist\"].min() + 0.5\n",
    "    d_max = track[\"along_dist\"].max() - 0.5\n",
    "    nearest_id = find_near(track[\"along_dist\"], ib)\n",
    "    xy = (track.iloc[nearest_id][\"x\"], track.iloc[nearest_id][\"y\"])\n",
    "    time = track.iloc[nearest_id][\"date_time\"]\n",
    "    if plane:\n",
    "        nearest_id = find_near(track[\"along_dist\"], plane[0])\n",
    "        pxy1 = (track.iloc[nearest_id][\"x\"], track.iloc[nearest_id][\"y\"])\n",
    "        nearest_id = find_near(track[\"along_dist\"], plane[1])\n",
    "        pxy2 = (track.iloc[nearest_id][\"x\"], track.iloc[nearest_id][\"y\"])\n",
    "    else:\n",
    "        pxy1, pxy2 = (None, None), (None, None)\n",
    "    ibs.loc[-1] = {\"x\":xy[0], \"y\":xy[1], \"time\":time, \"cyc\":cycle, \"track\":item, \"qs\":qs, \"px1\":pxy1[0], \"py1\":pxy1[1], \"px2\":pxy2[0], \"py2\":pxy2[1]}  # adding a row\n",
    "    ibs.index = ibs.index + 1  # shifting index\n",
    "    ibs = ibs.sort_index()  # sorting by index\n",
    "    return ibs"
   ]
  },
  {
   "cell_type": "code",
   "execution_count": 12,
   "id": "3bfd1f7d-4567-4f26-ae8d-6258237ea2be",
   "metadata": {
    "tags": []
   },
   "outputs": [
    {
     "name": "stdout",
     "output_type": "stream",
     "text": [
      "40/400 (10.0%) | Find Ib 95-gt3l-9 | TotTime: 2.61min EstTime: 23.47min         \r"
     ]
    },
    {
     "ename": "KeyboardInterrupt",
     "evalue": "",
     "output_type": "error",
     "traceback": [
      "\u001b[0;31m---------------------------------------------------------------------------\u001b[0m",
      "\u001b[0;31mKeyboardInterrupt\u001b[0m                         Traceback (most recent call last)",
      "Cell \u001b[0;32mIn [12], line 9\u001b[0m\n\u001b[1;32m      7\u001b[0m track \u001b[38;5;241m=\u001b[39m gpd\u001b[38;5;241m.\u001b[39mread_file(path)\n\u001b[1;32m      8\u001b[0m \u001b[38;5;28mprint\u001b[39m(\u001b[38;5;124mf\u001b[39m\u001b[38;5;124m\"\u001b[39m\u001b[38;5;132;01m{\u001b[39;00mi\u001b[38;5;132;01m}\u001b[39;00m\u001b[38;5;124m/\u001b[39m\u001b[38;5;132;01m{\u001b[39;00mtot\u001b[38;5;132;01m}\u001b[39;00m\u001b[38;5;124m (\u001b[39m\u001b[38;5;132;01m{\u001b[39;00m\u001b[38;5;28mround\u001b[39m(i\u001b[38;5;241m/\u001b[39mtot\u001b[38;5;241m*\u001b[39m\u001b[38;5;241m100\u001b[39m,\u001b[38;5;250m \u001b[39m\u001b[38;5;241m2\u001b[39m)\u001b[38;5;132;01m}\u001b[39;00m\u001b[38;5;124m%) | Find Ib \u001b[39m\u001b[38;5;132;01m{\u001b[39;00mrgt\u001b[38;5;132;01m}\u001b[39;00m\u001b[38;5;124m-\u001b[39m\u001b[38;5;132;01m{\u001b[39;00mname\u001b[38;5;132;01m}\u001b[39;00m\u001b[38;5;124m-\u001b[39m\u001b[38;5;132;01m{\u001b[39;00mcycle\u001b[38;5;132;01m}\u001b[39;00m\u001b[38;5;124m | TotTime: \u001b[39m\u001b[38;5;132;01m{\u001b[39;00m\u001b[38;5;28mround\u001b[39m((Time()\u001b[38;5;241m-\u001b[39mstarttime)\u001b[38;5;241m/\u001b[39m\u001b[38;5;241m60\u001b[39m,\u001b[38;5;250m \u001b[39m\u001b[38;5;241m2\u001b[39m)\u001b[38;5;132;01m}\u001b[39;00m\u001b[38;5;124mmin EstTime: \u001b[39m\u001b[38;5;132;01m{\u001b[39;00m\u001b[38;5;28mround\u001b[39m(((Time()\u001b[38;5;241m-\u001b[39mstarttime)\u001b[38;5;241m/\u001b[39m\u001b[38;5;241m60\u001b[39m)\u001b[38;5;250m \u001b[39m\u001b[38;5;241m*\u001b[39m\u001b[38;5;250m \u001b[39m(tot\u001b[38;5;241m/\u001b[39m(i\u001b[38;5;241m+\u001b[39m\u001b[38;5;241m0.0001\u001b[39m))\u001b[38;5;250m \u001b[39m\u001b[38;5;241m-\u001b[39m\u001b[38;5;250m \u001b[39m(Time()\u001b[38;5;241m-\u001b[39mstarttime)\u001b[38;5;241m/\u001b[39m\u001b[38;5;241m60\u001b[39m,\u001b[38;5;250m \u001b[39m\u001b[38;5;241m2\u001b[39m)\u001b[38;5;132;01m}\u001b[39;00m\u001b[38;5;124mmin\u001b[39m\u001b[38;5;124m\"\u001b[39m, end\u001b[38;5;241m=\u001b[39m\u001b[38;5;124m\"\u001b[39m\u001b[38;5;124m        \u001b[39m\u001b[38;5;130;01m\\r\u001b[39;00m\u001b[38;5;124m\"\u001b[39m)\n\u001b[0;32m----> 9\u001b[0m out \u001b[38;5;241m=\u001b[39m \u001b[43mslpbr\u001b[49m\u001b[38;5;241;43m.\u001b[39;49m\u001b[43mfindIb\u001b[49m\u001b[43m(\u001b[49m\u001b[43mtrack\u001b[49m\u001b[43m,\u001b[49m\u001b[43m \u001b[49m\u001b[43mgline_xy\u001b[49m\u001b[43m)\u001b[49m\n\u001b[1;32m     10\u001b[0m boolib \u001b[38;5;241m=\u001b[39m \u001b[38;5;28;01mFalse\u001b[39;00m\n\u001b[1;32m     11\u001b[0m \u001b[38;5;28;01mtry\u001b[39;00m:\n",
      "File \u001b[0;32m~/GLine-Mig/src/SlopeBreak2.py:519\u001b[0m, in \u001b[0;36mfindIb\u001b[0;34m(track, gline_xy, debug)\u001b[0m\n\u001b[1;32m    516\u001b[0m metadata \u001b[38;5;241m=\u001b[39m (\u001b[38;5;28mstr\u001b[39m(\u001b[38;5;28mint\u001b[39m(rgt)), name, \u001b[38;5;28mstr\u001b[39m(cycle))\n\u001b[1;32m    518\u001b[0m \u001b[38;5;66;03m# ensures removal of weak/bad tracks\u001b[39;00m\n\u001b[0;32m--> 519\u001b[0m track \u001b[38;5;241m=\u001b[39m \u001b[43mutil\u001b[49m\u001b[38;5;241;43m.\u001b[39;49m\u001b[43mprocess_and_extract\u001b[49m\u001b[43m(\u001b[49m\u001b[43mtrack\u001b[49m\u001b[43m,\u001b[49m\u001b[43m \u001b[49m\u001b[43mrgt\u001b[49m\u001b[43m,\u001b[49m\u001b[43m \u001b[49m\u001b[43mname\u001b[49m\u001b[43m,\u001b[49m\u001b[43m \u001b[49m\u001b[43mgline_xy\u001b[49m\u001b[43m,\u001b[49m\u001b[43m \u001b[49m\u001b[43mdebug\u001b[49m\u001b[38;5;241;43m=\u001b[39;49m\u001b[43mdebug\u001b[49m\u001b[43m,\u001b[49m\u001b[43m \u001b[49m\u001b[43mverbose\u001b[49m\u001b[38;5;241;43m=\u001b[39;49m\u001b[38;5;28;43;01mFalse\u001b[39;49;00m\u001b[43m,\u001b[49m\u001b[43m \u001b[49m\u001b[43mdescribe\u001b[49m\u001b[38;5;241;43m=\u001b[39;49m\u001b[38;5;28;43;01mFalse\u001b[39;49;00m\u001b[43m)\u001b[49m\n\u001b[1;32m    520\u001b[0m \u001b[38;5;28;01mif\u001b[39;00m \u001b[38;5;28mtype\u001b[39m(track) \u001b[38;5;241m==\u001b[39m \u001b[38;5;28mtype\u001b[39m(\u001b[38;5;28;01mNone\u001b[39;00m):\n\u001b[1;32m    521\u001b[0m     \u001b[38;5;28;01mreturn\u001b[39;00m \u001b[38;5;28;01mNone\u001b[39;00m\n",
      "File \u001b[0;32m~/GLine-Mig/src/TrackProfileUtil.py:458\u001b[0m, in \u001b[0;36mprocess_and_extract\u001b[0;34m(data, rgt, name, gline_xy, debug, describe, verbose)\u001b[0m\n\u001b[1;32m    456\u001b[0m \u001b[38;5;28;01mif\u001b[39;00m describe:\n\u001b[1;32m    457\u001b[0m     \u001b[38;5;28mprint\u001b[39m(\u001b[38;5;124mf\u001b[39m\u001b[38;5;124m\"\u001b[39m\u001b[38;5;124mComputing gline dist    \u001b[39m\u001b[38;5;124m\"\u001b[39m, end\u001b[38;5;241m=\u001b[39m\u001b[38;5;124m\"\u001b[39m\u001b[38;5;130;01m\\r\u001b[39;00m\u001b[38;5;124m\"\u001b[39m)\n\u001b[0;32m--> 458\u001b[0m single_beam \u001b[38;5;241m=\u001b[39m \u001b[43mfind_gline_dist\u001b[49m\u001b[43m(\u001b[49m\u001b[43msingle_beam\u001b[49m\u001b[43m,\u001b[49m\u001b[43m \u001b[49m\u001b[43mgline\u001b[49m\u001b[43m)\u001b[49m\n\u001b[1;32m    460\u001b[0m order \u001b[38;5;241m=\u001b[39m \u001b[38;5;241m5\u001b[39m\n\u001b[1;32m    461\u001b[0m cutoff \u001b[38;5;241m=\u001b[39m \u001b[38;5;241m0.032\u001b[39m \u001b[38;5;66;03m# found by https://doi.org/10.5194/tc-14-3629-2020\u001b[39;00m\n",
      "File \u001b[0;32m~/GLine-Mig/src/TrackProfileUtil.py:213\u001b[0m, in \u001b[0;36mfind_gline_dist\u001b[0;34m(single_beam, gline)\u001b[0m\n\u001b[1;32m    194\u001b[0m \u001b[38;5;250m\u001b[39m\u001b[38;5;124;03m\"\"\"\u001b[39;00m\n\u001b[1;32m    195\u001b[0m \u001b[38;5;124;03mFinds the distance to the grounding line for every point in single_beam\u001b[39;00m\n\u001b[1;32m    196\u001b[0m \u001b[38;5;124;03m\u001b[39;00m\n\u001b[0;32m   (...)\u001b[0m\n\u001b[1;32m    208\u001b[0m \u001b[38;5;124;03m      Same as single_beam input, except with the new {gline_dist} column\u001b[39;00m\n\u001b[1;32m    209\u001b[0m \u001b[38;5;124;03m\"\"\"\u001b[39;00m\n\u001b[1;32m    211\u001b[0m gline_dist \u001b[38;5;241m=\u001b[39m []\n\u001b[0;32m--> 213\u001b[0m \u001b[38;5;28;01mfor\u001b[39;00m index, row \u001b[38;5;129;01min\u001b[39;00m single_beam\u001b[38;5;241m.\u001b[39miterrows():\n\u001b[1;32m    214\u001b[0m     \u001b[38;5;66;03m# compute distance to gline for each point\u001b[39;00m\n\u001b[1;32m    215\u001b[0m     x, y \u001b[38;5;241m=\u001b[39m row[\u001b[38;5;124m\"\u001b[39m\u001b[38;5;124mgeometry\u001b[39m\u001b[38;5;124m\"\u001b[39m]\u001b[38;5;241m.\u001b[39mxy\n\u001b[1;32m    216\u001b[0m     point \u001b[38;5;241m=\u001b[39m sp\u001b[38;5;241m.\u001b[39mgeometry\u001b[38;5;241m.\u001b[39mPoint(x[\u001b[38;5;241m-\u001b[39m\u001b[38;5;241m1\u001b[39m], y[\u001b[38;5;241m-\u001b[39m\u001b[38;5;241m1\u001b[39m])\n",
      "File \u001b[0;32m/srv/conda/envs/notebook/lib/python3.10/site-packages/pandas/core/frame.py:1409\u001b[0m, in \u001b[0;36mDataFrame.iterrows\u001b[0;34m(self)\u001b[0m\n\u001b[1;32m   1407\u001b[0m klass \u001b[38;5;241m=\u001b[39m \u001b[38;5;28mself\u001b[39m\u001b[38;5;241m.\u001b[39m_constructor_sliced\n\u001b[1;32m   1408\u001b[0m \u001b[38;5;28;01mfor\u001b[39;00m k, v \u001b[38;5;129;01min\u001b[39;00m \u001b[38;5;28mzip\u001b[39m(\u001b[38;5;28mself\u001b[39m\u001b[38;5;241m.\u001b[39mindex, \u001b[38;5;28mself\u001b[39m\u001b[38;5;241m.\u001b[39mvalues):\n\u001b[0;32m-> 1409\u001b[0m     s \u001b[38;5;241m=\u001b[39m \u001b[43mklass\u001b[49m\u001b[43m(\u001b[49m\u001b[43mv\u001b[49m\u001b[43m,\u001b[49m\u001b[43m \u001b[49m\u001b[43mindex\u001b[49m\u001b[38;5;241;43m=\u001b[39;49m\u001b[43mcolumns\u001b[49m\u001b[43m,\u001b[49m\u001b[43m \u001b[49m\u001b[43mname\u001b[49m\u001b[38;5;241;43m=\u001b[39;49m\u001b[43mk\u001b[49m\u001b[43m)\u001b[49m\u001b[38;5;241m.\u001b[39m__finalize__(\u001b[38;5;28mself\u001b[39m)\n\u001b[1;32m   1410\u001b[0m     \u001b[38;5;28;01myield\u001b[39;00m k, s\n",
      "File \u001b[0;32m/srv/conda/envs/notebook/lib/python3.10/site-packages/geopandas/geodataframe.py:1536\u001b[0m, in \u001b[0;36mGeoDataFrame._constructor_sliced.<locals>._geodataframe_constructor_sliced\u001b[0;34m(*args, **kwargs)\u001b[0m\n\u001b[1;32m   1534\u001b[0m srs \u001b[38;5;241m=\u001b[39m pd\u001b[38;5;241m.\u001b[39mSeries(\u001b[38;5;241m*\u001b[39margs, \u001b[38;5;241m*\u001b[39m\u001b[38;5;241m*\u001b[39mkwargs)\n\u001b[1;32m   1535\u001b[0m is_row_proxy \u001b[38;5;241m=\u001b[39m srs\u001b[38;5;241m.\u001b[39mindex \u001b[38;5;129;01mis\u001b[39;00m \u001b[38;5;28mself\u001b[39m\u001b[38;5;241m.\u001b[39mcolumns\n\u001b[0;32m-> 1536\u001b[0m \u001b[38;5;28;01mif\u001b[39;00m \u001b[43mis_geometry_type\u001b[49m\u001b[43m(\u001b[49m\u001b[43msrs\u001b[49m\u001b[43m)\u001b[49m \u001b[38;5;129;01mand\u001b[39;00m \u001b[38;5;129;01mnot\u001b[39;00m is_row_proxy:\n\u001b[1;32m   1537\u001b[0m     srs \u001b[38;5;241m=\u001b[39m GeoSeries(srs)\n\u001b[1;32m   1538\u001b[0m \u001b[38;5;28;01mreturn\u001b[39;00m srs\n",
      "File \u001b[0;32m/srv/conda/envs/notebook/lib/python3.10/site-packages/geopandas/base.py:19\u001b[0m, in \u001b[0;36mis_geometry_type\u001b[0;34m(data)\u001b[0m\n\u001b[1;32m     13\u001b[0m \u001b[38;5;28;01mdef\u001b[39;00m \u001b[38;5;21mis_geometry_type\u001b[39m(data):\n\u001b[1;32m     14\u001b[0m \u001b[38;5;250m    \u001b[39m\u001b[38;5;124;03m\"\"\"\u001b[39;00m\n\u001b[1;32m     15\u001b[0m \u001b[38;5;124;03m    Check if the data is of geometry dtype.\u001b[39;00m\n\u001b[1;32m     16\u001b[0m \n\u001b[1;32m     17\u001b[0m \u001b[38;5;124;03m    Does not include object array of shapely scalars.\u001b[39;00m\n\u001b[1;32m     18\u001b[0m \u001b[38;5;124;03m    \"\"\"\u001b[39;00m\n\u001b[0;32m---> 19\u001b[0m     \u001b[38;5;28;01mif\u001b[39;00m \u001b[38;5;28misinstance\u001b[39m(\u001b[38;5;28;43mgetattr\u001b[39;49m\u001b[43m(\u001b[49m\u001b[43mdata\u001b[49m\u001b[43m,\u001b[49m\u001b[43m \u001b[49m\u001b[38;5;124;43m\"\u001b[39;49m\u001b[38;5;124;43mdtype\u001b[39;49m\u001b[38;5;124;43m\"\u001b[39;49m\u001b[43m,\u001b[49m\u001b[43m \u001b[49m\u001b[38;5;28;43;01mNone\u001b[39;49;00m\u001b[43m)\u001b[49m, GeometryDtype):\n\u001b[1;32m     20\u001b[0m         \u001b[38;5;66;03m# GeometryArray, GeoSeries and Series[GeometryArray]\u001b[39;00m\n\u001b[1;32m     21\u001b[0m         \u001b[38;5;28;01mreturn\u001b[39;00m \u001b[38;5;28;01mTrue\u001b[39;00m\n\u001b[1;32m     22\u001b[0m     \u001b[38;5;28;01melse\u001b[39;00m:\n",
      "File \u001b[0;32m/srv/conda/envs/notebook/lib/python3.10/site-packages/pandas/core/series.py:601\u001b[0m, in \u001b[0;36mSeries.dtype\u001b[0;34m(self)\u001b[0m\n\u001b[1;32m    596\u001b[0m \u001b[38;5;129m@property\u001b[39m\n\u001b[1;32m    597\u001b[0m \u001b[38;5;28;01mdef\u001b[39;00m \u001b[38;5;21mdtype\u001b[39m(\u001b[38;5;28mself\u001b[39m) \u001b[38;5;241m-\u001b[39m\u001b[38;5;241m>\u001b[39m DtypeObj:\n\u001b[1;32m    598\u001b[0m \u001b[38;5;250m    \u001b[39m\u001b[38;5;124;03m\"\"\"\u001b[39;00m\n\u001b[1;32m    599\u001b[0m \u001b[38;5;124;03m    Return the dtype object of the underlying data.\u001b[39;00m\n\u001b[1;32m    600\u001b[0m \u001b[38;5;124;03m    \"\"\"\u001b[39;00m\n\u001b[0;32m--> 601\u001b[0m     \u001b[38;5;28;01mreturn\u001b[39;00m \u001b[38;5;28;43mself\u001b[39;49m\u001b[38;5;241;43m.\u001b[39;49m\u001b[43m_mgr\u001b[49m\u001b[38;5;241;43m.\u001b[39;49m\u001b[43mdtype\u001b[49m\n",
      "File \u001b[0;32m/srv/conda/envs/notebook/lib/python3.10/site-packages/pandas/core/internals/managers.py:2028\u001b[0m, in \u001b[0;36mSingleBlockManager.dtype\u001b[0;34m(self)\u001b[0m\n\u001b[1;32m   2026\u001b[0m \u001b[38;5;129m@property\u001b[39m\n\u001b[1;32m   2027\u001b[0m \u001b[38;5;28;01mdef\u001b[39;00m \u001b[38;5;21mdtype\u001b[39m(\u001b[38;5;28mself\u001b[39m) \u001b[38;5;241m-\u001b[39m\u001b[38;5;241m>\u001b[39m DtypeObj:\n\u001b[0;32m-> 2028\u001b[0m     \u001b[38;5;28;01mreturn\u001b[39;00m \u001b[38;5;28;43mself\u001b[39;49m\u001b[38;5;241;43m.\u001b[39;49m\u001b[43m_block\u001b[49m\u001b[38;5;241;43m.\u001b[39;49m\u001b[43mdtype\u001b[49m\n",
      "File \u001b[0;32m/srv/conda/envs/notebook/lib/python3.10/site-packages/pandas/_libs/properties.pyx:36\u001b[0m, in \u001b[0;36mpandas._libs.properties.CachedProperty.__get__\u001b[0;34m()\u001b[0m\n",
      "File \u001b[0;32m/srv/conda/envs/notebook/lib/python3.10/site-packages/pandas/core/internals/blocks.py:500\u001b[0m, in \u001b[0;36mBlock.dtype\u001b[0;34m(self)\u001b[0m\n\u001b[1;32m    495\u001b[0m     \u001b[38;5;28;01mreturn\u001b[39;00m [\u001b[38;5;28mself\u001b[39m\u001b[38;5;241m.\u001b[39mcopy()] \u001b[38;5;28;01mif\u001b[39;00m copy \u001b[38;5;28;01melse\u001b[39;00m [\u001b[38;5;28mself\u001b[39m]\n\u001b[1;32m    497\u001b[0m \u001b[38;5;66;03m# ---------------------------------------------------------------------\u001b[39;00m\n\u001b[1;32m    498\u001b[0m \u001b[38;5;66;03m# Array-Like Methods\u001b[39;00m\n\u001b[0;32m--> 500\u001b[0m \u001b[38;5;129m@cache_readonly\u001b[39m\n\u001b[1;32m    501\u001b[0m \u001b[38;5;28;01mdef\u001b[39;00m \u001b[38;5;21mdtype\u001b[39m(\u001b[38;5;28mself\u001b[39m) \u001b[38;5;241m-\u001b[39m\u001b[38;5;241m>\u001b[39m DtypeObj:\n\u001b[1;32m    502\u001b[0m     \u001b[38;5;28;01mreturn\u001b[39;00m \u001b[38;5;28mself\u001b[39m\u001b[38;5;241m.\u001b[39mvalues\u001b[38;5;241m.\u001b[39mdtype\n\u001b[1;32m    504\u001b[0m \u001b[38;5;129m@final\u001b[39m\n\u001b[1;32m    505\u001b[0m \u001b[38;5;28;01mdef\u001b[39;00m \u001b[38;5;21mastype\u001b[39m(\n\u001b[1;32m    506\u001b[0m     \u001b[38;5;28mself\u001b[39m, dtype: DtypeObj, copy: \u001b[38;5;28mbool\u001b[39m \u001b[38;5;241m=\u001b[39m \u001b[38;5;28;01mFalse\u001b[39;00m, errors: IgnoreRaise \u001b[38;5;241m=\u001b[39m \u001b[38;5;124m\"\u001b[39m\u001b[38;5;124mraise\u001b[39m\u001b[38;5;124m\"\u001b[39m\n\u001b[1;32m    507\u001b[0m ) \u001b[38;5;241m-\u001b[39m\u001b[38;5;241m>\u001b[39m Block:\n",
      "\u001b[0;31mKeyboardInterrupt\u001b[0m: "
     ]
    }
   ],
   "source": [
    "tot = len(fullset)\n",
    "starttime = Time()\n",
    "for i, item in enumerate(fullset):\n",
    "    rgt, name = item.split(\"-\")\n",
    "    path = f\"Saves/{rgt}/{name}/Bung-{cycle}.json\"\n",
    "    print(f\"{i}/{tot} ({round(i/tot*100, 2)}%) | Opening {rgt}-{name}-{cycle} | TotTime: {round((Time()-starttime)/60, 2)}min EstTime: {round(((Time()-starttime)/60) * (tot/(i+0.0001)) - (Time()-starttime)/60, 2)}min\", end=\"        \\r\")\n",
    "    track = gpd.read_file(path)\n",
    "    print(f\"{i}/{tot} ({round(i/tot*100, 2)}%) | Find Ib {rgt}-{name}-{cycle} | TotTime: {round((Time()-starttime)/60, 2)}min EstTime: {round(((Time()-starttime)/60) * (tot/(i+0.0001)) - (Time()-starttime)/60, 2)}min\", end=\"        \\r\")\n",
    "    out = slpbr.findIb(track, gline_xy)\n",
    "    boolib = False\n",
    "    try:\n",
    "        track, ib, qs, plane = out\n",
    "        if type(ib) != list:\n",
    "            ibs = addon(track, ib, qs, plane, ibs)\n",
    "        else:\n",
    "            for i, q in zip(ib, qs):\n",
    "                ibs = addon(track, i, q, plane, ibs)\n",
    "        boolib = True\n",
    "    except: \n",
    "        track = out"
   ]
  },
  {
   "cell_type": "code",
   "execution_count": null,
   "id": "9b6ba29f-5ad6-4f16-9770-6ebeb217198b",
   "metadata": {
    "tags": []
   },
   "outputs": [],
   "source": [
    "proj4_crs = \"+proj=stere +lat_0=-90 +lat_ts=-71 +lon_0=0 +k=1 +x_0=0 +y_0=0 +datum=WGS84 +units=m +no_defs\"\n",
    "ibgpd = gpd.GeoDataFrame(ibs, geometry=gpd.points_from_xy(ibs[\"x\"], ibs[\"y\"]), crs=proj4_crs)"
   ]
  },
  {
   "cell_type": "markdown",
   "id": "3ef830ed-d463-4633-83ec-f42ee694122c",
   "metadata": {
    "user_expressions": []
   },
   "source": [
    "## Remove points far from others by calculating min dist to others"
   ]
  },
  {
   "cell_type": "code",
   "execution_count": null,
   "id": "b1b1d562-fa6d-4f15-a0f3-07a98c3b9644",
   "metadata": {
    "tags": []
   },
   "outputs": [],
   "source": [
    "min_dists = []\n",
    "for i, row in ibgpd.iterrows():\n",
    "    rowdists = []\n",
    "    x, y = row[\"x\"], row[\"y\"]\n",
    "    for j, nrow in ibgpd.iterrows():\n",
    "        if j != i:\n",
    "            nx, ny = nrow[\"x\"], nrow[\"y\"]\n",
    "            rowdists.append(((nx-x)**2+(ny-y)**2)**0.5)\n",
    "    min_dists.append(min(rowdists))\n",
    "ibgpd[\"min_dist\"] = min_dists"
   ]
  },
  {
   "cell_type": "code",
   "execution_count": null,
   "id": "b9bae6a3-22b2-4127-b845-a864615cc473",
   "metadata": {
    "tags": []
   },
   "outputs": [],
   "source": [
    "ibgpd = ibgpd[ibgpd[\"min_dist\"] < 10*1000]"
   ]
  },
  {
   "cell_type": "markdown",
   "id": "f0301d35-195a-4190-aa22-d9fca1c91fce",
   "metadata": {
    "user_expressions": []
   },
   "source": [
    "## Calculate ice plain cheaply"
   ]
  },
  {
   "cell_type": "code",
   "execution_count": null,
   "id": "22c13ebd-4408-4cab-aaaa-c9016d8a0a14",
   "metadata": {
    "tags": []
   },
   "outputs": [],
   "source": [
    "fig, ax = plt.subplots(1, 1, figsize = (10, 10))\n",
    "range_cnt = 20\n",
    "\n",
    "ax.set_facecolor(\"gainsboro\")\n",
    "basemap.basemap_gpd.plot(ax=ax, color=\"white\", edgecolor=\"black\")\n",
    "\n",
    "moa_gline = gpd.read_file(\"Line/moa_2009_groundingline_v02.0.shp\")\n",
    "\n",
    "for i, row in ibgpd.iterrows():\n",
    "    if row[\"px1\"]:\n",
    "        \n",
    "        # first check if point is within polygon.\n",
    "        point = row.geometry\n",
    "        if basemap.basemap_gpd.iloc[0].geometry.contains(point) == True:\n",
    "            \n",
    "            # create line which goes in rough track direction\n",
    "            m = (row[\"py2\"] - row[\"py1\"]) / (row[\"px2\"] - row[\"px1\"])\n",
    "            xysort = [row[\"px1\"], row[\"px2\"]], [row[\"py1\"], row[\"py2\"]]\n",
    "            x0, x1 = xysort[0][0]-50000, xysort[0][1]+50000\n",
    "            y0, y1 = m*(x0-xysort[0][0])+xysort[1][0], m*(x1-xysort[0][1])+xysort[1][1]\n",
    "            \n",
    "            line = sp.geometry.LineString([[x0, y0], [x1, y1]])\n",
    "            intersect = sp.intersection(basemap.basemap_gpd.iloc[0].geometry.boundary, line)\n",
    "            \n",
    "            # check to ensure intersection is not endpoint of a line\n",
    "            xs, ys = [], []\n",
    "            if type(intersect) == sp.geometry.MultiPoint:\n",
    "                min_dist, geom = 1e10, None\n",
    "                for line in intersect.geoms:\n",
    "                    new = line.xy\n",
    "                    nxs, nys = list(new[0])[0], list(new[1])[0]\n",
    "                    dist = ((row[\"x\"] - nxs)**2 + (row[\"y\"] - nys)**2)**0.5\n",
    "                    if dist < min_dist:\n",
    "                        min_dist = dist\n",
    "                        geom = new\n",
    "            else:\n",
    "                geom = intersect.xy\n",
    "                \n",
    "            nxs, nys = list(geom[0]), list(geom[1])\n",
    "            xs.extend(nxs)\n",
    "            ys.extend(nys)\n",
    "            \n",
    "            # make into xy pairs and remove if equal to line endpoint\n",
    "            pairs = [(x, y) for x, y in zip(xs, ys) if (x, y) != (x0, y0) or (x, y) != (x1, y1)]\n",
    "                \n",
    "            if xs:\n",
    "                plt.plot([row[\"x\"],pairs[0][0]], [row[\"y\"],pairs[0][1]], c=\"navy\")\n",
    "                plt.text(row[\"x\"], row[\"y\"], row[\"track\"])\n",
    "                \n",
    "moa_gline.plot(ax=ax, color=\"none\", edgecolor=\"red\", alpha= 0.2)\n",
    "            \n",
    "ax.set_title(\"All\")\n",
    "ax.set_aspect('equal', adjustable='box')\n",
    "\n",
    "plt.xlim(gline_xy[\"x\"].min(), gline_xy[\"x\"].max())\n",
    "plt.ylim(gline_xy[\"y\"].min(), gline_xy[\"y\"].max())\n",
    "    \n",
    "plt.show()"
   ]
  },
  {
   "cell_type": "markdown",
   "id": "d800a236-cd62-4cc5-bab0-c4bce83e00e3",
   "metadata": {
    "user_expressions": []
   },
   "source": [
    "## Visualize"
   ]
  },
  {
   "cell_type": "code",
   "execution_count": null,
   "id": "e974ab34-5cf8-483d-822f-74c8e85ca29e",
   "metadata": {
    "tags": []
   },
   "outputs": [],
   "source": [
    "fig, ax = plt.subplots(1, 1, figsize = (10, 10))\n",
    "range_cnt = 20\n",
    "\n",
    "ax.set_facecolor(\"gainsboro\")\n",
    "basemap.basemap_gpd.plot(ax=ax, color=\"white\", edgecolor=\"black\")\n",
    "    \n",
    "for i, row in ibgpd.iterrows():\n",
    "    row = ibs.iloc[i]\n",
    "    plt.scatter(row[\"x\"], row[\"y\"], s = 3, color=\"red\")\n",
    "    plt.text(row[\"x\"], row[\"y\"], row[\"track\"])\n",
    "    \n",
    "ax.set_title(\"All\")\n",
    "ax.set_aspect('equal', adjustable='box')\n",
    "\n",
    "plt.xlim(gline_xy[\"x\"].min(), gline_xy[\"x\"].max())\n",
    "plt.ylim(gline_xy[\"y\"].min(), gline_xy[\"y\"].max())\n",
    "    \n",
    "plt.show()"
   ]
  },
  {
   "cell_type": "code",
   "execution_count": null,
   "id": "4ae34626-08db-4e97-aa3a-5fd66ddf077d",
   "metadata": {},
   "outputs": [],
   "source": [
    "fig, ax = plt.subplots(1, 1, figsize = (10, 10))\n",
    "range_cnt = 20\n",
    " \n",
    "ax.set_facecolor(\"gainsboro\")\n",
    "basemap.basemap_gpd.plot(ax=ax, color=\"white\", edgecolor=\"black\")\n",
    "    \n",
    "for i in range(len(ibs)):\n",
    "    row = ibs.iloc[i]\n",
    "    plt.scatter(row[\"x\"], row[\"y\"], s = 3, color=\"red\")\n",
    "    if row[\"x\"] < -900000 and row[\"y\"] < 350000:\n",
    "        plt.text(row[\"x\"], row[\"y\"], row[\"track\"])\n",
    "    \n",
    "ax.set_title(\"All\")\n",
    "ax.set_aspect('equal', adjustable='box')\n",
    "\n",
    "plt.xlim(gline_xy[\"x\"].min(), -900000)\n",
    "plt.ylim(300000, 350000)\n",
    "    \n",
    "plt.show()"
   ]
  },
  {
   "cell_type": "code",
   "execution_count": null,
   "id": "6326700d-7a08-446b-84f0-f8e63baf300e",
   "metadata": {
    "tags": []
   },
   "outputs": [],
   "source": [
    "ibgpd.to_csv(f\"Line/{cycle}-Ib.csv\")"
   ]
  },
  {
   "cell_type": "code",
   "execution_count": null,
   "id": "29896eb2-7dcf-4a34-8305-4dc1caa693b5",
   "metadata": {},
   "outputs": [],
   "source": [
    "fig, ax = plt.subplots(1, 1, figsize = (10, 10))\n",
    "range_cnt = 20\n",
    "\n",
    "ax.set_facecolor(\"gainsboro\")\n",
    "basemap.basemap_gpd.plot(ax=ax, color=\"white\", edgecolor=\"black\")\n",
    "    \n",
    "sc = plt.scatter(ibs[\"x\"], ibs[\"y\"], s = 3, c=ibs[\"qs\"])\n",
    "#sc = plt.scatter(ibs[\"x\"], ibs[\"y\"], s = 3, c=min_dists)\n",
    "    \n",
    "ax.set_title(\"All\")\n",
    "ax.set_aspect('equal', adjustable='box')\n",
    "\n",
    "plt.xlim(gline_xy[\"x\"].min(), gline_xy[\"x\"].max())\n",
    "plt.ylim(gline_xy[\"y\"].min(), gline_xy[\"y\"].max())\n",
    "plt.colorbar(sc)\n",
    "    \n",
    "plt.show()"
   ]
  },
  {
   "cell_type": "code",
   "execution_count": null,
   "id": "23299557-ee8c-4f5f-9c92-16e3f583a9fa",
   "metadata": {},
   "outputs": [],
   "source": [
    "fig, ax = plt.subplots(1, 1, figsize = (10, 10))\n",
    "range_cnt = 20\n",
    "\n",
    "ax.set_facecolor(\"gainsboro\")\n",
    "basemap.basemap_gpd.plot(ax=ax, color=\"white\", edgecolor=\"black\")\n",
    "    \n",
    "for i, row in ibgpd.iterrows():\n",
    "    if row[\"px1\"]:\n",
    "        plt.plot([row[\"px1\"], row[\"px2\"]], [row[ \"py1\"], row[\"py2\"]], c=\"red\")\n",
    "        plt.text(row[\"x\"], row[\"y\"], row[\"track\"])\n",
    "    \n",
    "ax.set_title(\"All\")\n",
    "ax.set_aspect('equal', adjustable='box')\n",
    "\n",
    "plt.xlim(gline_xy[\"x\"].min(), gline_xy[\"x\"].max())\n",
    "plt.ylim(gline_xy[\"y\"].min(), gline_xy[\"y\"].max())\n",
    "    \n",
    "plt.show()"
   ]
  },
  {
   "cell_type": "code",
   "execution_count": null,
   "id": "423b1676-2fdf-48ab-a5f6-4b490447bd18",
   "metadata": {},
   "outputs": [],
   "source": []
  }
 ],
 "metadata": {
  "kernelspec": {
   "display_name": "Python 3 (ipykernel)",
   "language": "python",
   "name": "python3"
  },
  "language_info": {
   "codemirror_mode": {
    "name": "ipython",
    "version": 3
   },
   "file_extension": ".py",
   "mimetype": "text/x-python",
   "name": "python",
   "nbconvert_exporter": "python",
   "pygments_lexer": "ipython3",
   "version": "3.10.12"
  }
 },
 "nbformat": 4,
 "nbformat_minor": 5
}
